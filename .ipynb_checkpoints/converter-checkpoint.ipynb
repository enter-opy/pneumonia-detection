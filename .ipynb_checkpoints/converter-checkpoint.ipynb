{
 "cells": [
  {
   "cell_type": "code",
   "execution_count": 2,
   "id": "3759d97e",
   "metadata": {},
   "outputs": [],
   "source": [
    "import tensorflowjs as tfjs"
   ]
  },
  {
   "cell_type": "code",
   "execution_count": 8,
   "id": "77ad81fc",
   "metadata": {
    "scrolled": true
   },
   "outputs": [
    {
     "name": "stderr",
     "output_type": "stream",
     "text": [
      "2023-06-19 10:39:09.268546: W tensorflow/stream_executor/platform/default/dso_loader.cc:64] Could not load dynamic library 'cudart64_110.dll'; dlerror: cudart64_110.dll not found\n",
      "2023-06-19 10:39:09.268614: I tensorflow/stream_executor/cuda/cudart_stub.cc:29] Ignore above cudart dlerror if you do not have a GPU set up on your machine.\n",
      "Traceback (most recent call last):\n",
      "  File \"C:\\Users\\vivek\\anaconda3\\lib\\runpy.py\", line 197, in _run_module_as_main\n",
      "    return _run_code(code, main_globals, None,\n",
      "  File \"C:\\Users\\vivek\\anaconda3\\lib\\runpy.py\", line 87, in _run_code\n",
      "    exec(code, run_globals)\n",
      "  File \"C:\\Users\\vivek\\anaconda3\\Scripts\\tensorflowjs_converter.exe\\__main__.py\", line 7, in <module>\n",
      "  File \"C:\\Users\\vivek\\anaconda3\\lib\\site-packages\\tensorflowjs\\converters\\converter.py\", line 827, in pip_main\n",
      "    main([' '.join(sys.argv[1:])])\n",
      "  File \"C:\\Users\\vivek\\anaconda3\\lib\\site-packages\\tensorflowjs\\converters\\converter.py\", line 831, in main\n",
      "    convert(argv[0].split(' '))\n",
      "  File \"C:\\Users\\vivek\\anaconda3\\lib\\site-packages\\tensorflowjs\\converters\\converter.py\", line 817, in convert\n",
      "    _dispatch_converter(input_format, output_format, args, quantization_dtype_map,\n",
      "  File \"C:\\Users\\vivek\\anaconda3\\lib\\site-packages\\tensorflowjs\\converters\\converter.py\", line 500, in _dispatch_converter\n",
      "    dispatch_keras_h5_to_tfjs_layers_model_conversion(\n",
      "  File \"C:\\Users\\vivek\\anaconda3\\lib\\site-packages\\tensorflowjs\\converters\\converter.py\", line 76, in dispatch_keras_h5_to_tfjs_layers_model_conversion\n",
      "    raise ValueError('Nonexistent path to HDF5 file: %s' % h5_path)\n",
      "ValueError: Nonexistent path to HDF5 file: /model.h5\n"
     ]
    }
   ],
   "source": [
    "!tensorflowjs_converter --input_format=keras /tmp/model.h5 /tmp/model"
   ]
  }
 ],
 "metadata": {
  "kernelspec": {
   "display_name": "Python 3 (ipykernel)",
   "language": "python",
   "name": "python3"
  },
  "language_info": {
   "codemirror_mode": {
    "name": "ipython",
    "version": 3
   },
   "file_extension": ".py",
   "mimetype": "text/x-python",
   "name": "python",
   "nbconvert_exporter": "python",
   "pygments_lexer": "ipython3",
   "version": "3.9.13"
  }
 },
 "nbformat": 4,
 "nbformat_minor": 5
}
